{
 "metadata": {
  "language_info": {
   "codemirror_mode": {
    "name": "ipython",
    "version": 3
   },
   "file_extension": ".py",
   "mimetype": "text/x-python",
   "name": "python",
   "nbconvert_exporter": "python",
   "pygments_lexer": "ipython3",
   "version": "3.7.7-final"
  },
  "orig_nbformat": 2,
  "kernelspec": {
   "name": "Python 3.7.7 64-bit ('base': conda)",
   "display_name": "Python 3.7.7 64-bit ('base': conda)",
   "metadata": {
    "interpreter": {
     "hash": "448eea69390e87439a5333a90a303e7024d2ba171b1cfbbf9a993ee52ea35a5d"
    }
   }
  }
 },
 "nbformat": 4,
 "nbformat_minor": 2,
 "cells": [
  {
   "source": [
    "# Python OOP Pair Notebook\n",
    "    Scott Hines\n",
    "    Jules Hansen"
   ],
   "cell_type": "markdown",
   "metadata": {}
  },
  {
   "cell_type": "code",
   "execution_count": 100,
   "metadata": {},
   "outputs": [],
   "source": [
    "class Polynomial:\n",
    "\n",
    "    def __init__(self, list_of_coefficients):\n",
    "        self.coef = list_of_coefficients\n",
    "\n",
    "    def __repr__(self):\n",
    "        return f'\\\"Polynomial({self.coef})\\\"'\n",
    "\n",
    "    def evaluate(self, c):\n",
    "        accum = 0\n",
    "        for i in range(len(self.coef)):\n",
    "            accum += self.coef[i] * c ** i\n",
    "        return accum\n",
    "\n",
    "    def __add__(self, Other):\n",
    "        new_coef = []\n",
    "        new_self = self.coef.copy()\n",
    "        new_other = Other.coef.copy()\n",
    "        if len(new_self) == len(new_other):\n",
    "            pass\n",
    "        elif len(new_self) > len(new_other):\n",
    "            new_other += [0] * (len(new_self)-len(new_other))\n",
    "        else:\n",
    "            new_self += [0] * (len(new_other)-len(new_self))\n",
    "        for i in range(len(new_self)):\n",
    "            new_coef.append(new_self[i] + new_other[i])\n",
    "        return Polynomial(new_coef)\n",
    "\n",
    "    def __sub__(self, Other):\n",
    "        new_coef = []\n",
    "        new_self = self.coef.copy()\n",
    "        new_other = Other.coef.copy()\n",
    "        if len(new_self) == len(new_other):\n",
    "            pass\n",
    "        elif len(new_self) > len(new_other):\n",
    "            new_other += [0] * (len(new_self)-len(new_other))\n",
    "        else:\n",
    "            new_self += [0] * (len(new_other)-len(new_self))\n",
    "        for i in range(len(new_self)):\n",
    "            new_coef.append(new_self[i] - Other.coef[i])\n",
    "        return Polynomial(new_coef)\n",
    "    \n",
    "    def __neg__(self):\n",
    "        new_coef = []\n",
    "        for i in range(len(self.coef)):\n",
    "            new_coef.append((-1)*self.coef[i])\n",
    "        return Polynomial(new_coef)\n",
    "\n",
    "    def __str__(self):\n",
    "        i = 0\n",
    "        while self.coef[i] == 0:\n",
    "            i += 1\n",
    "        \n",
    "        if i == 0:\n",
    "            equation = f'{self.coef[0]}'\n",
    "        elif i == 1:\n",
    "            if self.coef[i] == 1:\n",
    "                equation = 'x'\n",
    "            elif self.coef[i] == -1:\n",
    "                equation ='-x'\n",
    "            else:\n",
    "                equation = f'{self.coef[1]}x'\n",
    "        else:\n",
    "            equation = f'{self.coef[i]}x^{i}'\n",
    "       \n",
    "        for j in range(i+1,len(self.coef)):\n",
    "            if self.coef[j] == 0:\n",
    "                pass\n",
    "            elif j == 1:\n",
    "                if self.coef[j] == 1:\n",
    "                    equation += f' + x'\n",
    "                elif self.coef[j] == -1:\n",
    "                    equation += f' - x'\n",
    "                elif self.coef[j] > 0:\n",
    "                    equation += f' + {self.coef[j]}x'\n",
    "                else:\n",
    "                    equation += f' - {self.coef[j]}x'\n",
    "            elif self.coef[j] == 1:\n",
    "                equation += f' + x^{j}'\n",
    "            elif self.coef[j] == -1:\n",
    "                equation += f' - x^{j}'\n",
    "            elif self.coef[j] > 0:\n",
    "                equation += f' + {self.coef[j]}x^{j}'\n",
    "            else:\n",
    "                equation += f' - {-self.coef[j]}x^{j}'\n",
    "        return equation\n",
    "\n",
    "    def __mul__(self,Other):\n",
    "        new_self = self.coef.copy()\n",
    "        new_other = Other.coef.copy()\n",
    "        i = dict()\n",
    "        new_coef = []\n",
    "        for num in range(len(new_self)+len(new_other)-1):\n",
    "            i[num] = []\n",
    "        for i_self, n_self in enumerate(new_self):\n",
    "            for i_other, n_other in enumerate(new_other):\n",
    "                i[i_self + i_other].append(n_self*n_other)\n",
    "        for j in range(len(i)):\n",
    "            new_coef.append(sum(i[j]))\n",
    "        return Polynomial(new_coef)\n",
    "\n",
    "    def differentiate(self):\n",
    "        diff = []\n",
    "        for i in range(1,len(self.coef)):\n",
    "            diff += [self.coef[i]*i]\n",
    "        return Polynomial(diff)\n",
    "    \n",
    "    def integrate(self,C=0):\n",
    "        integral = [C]\n",
    "        for i in range(len(self.coef)):\n",
    "            integral += [self.coef[i] / (i+1)]\n",
    "        return Polynomial(integral)\n"
   ]
  },
  {
   "cell_type": "code",
   "execution_count": 96,
   "metadata": {},
   "outputs": [],
   "source": [
    "x = Polynomial([-1,0,1])\n",
    "y = Polynomial([0,1])\n",
    "z = Polynomial([1,1,3,2])\n"
   ]
  },
  {
   "cell_type": "code",
   "execution_count": 99,
   "metadata": {},
   "outputs": [
    {
     "output_type": "stream",
     "name": "stdout",
     "text": [
      "-1 + x^2\nx\n0.5x^2 + 0.16666666666666666x^3 + 0.25x^4 + 0.1x^5\n"
     ]
    },
    {
     "output_type": "execute_result",
     "data": {
      "text/plain": [
       "\"Polynomial([3, 0.0, 0.0, 0.16666666666666666, 0.041666666666666664, 0.05, 0.016666666666666666])\""
      ]
     },
     "metadata": {},
     "execution_count": 99
    }
   ],
   "source": [
    "\n",
    "print(x)\n",
    "print(y)\n",
    "print(z)\n",
    "z = z.integrate(3)\n",
    "z"
   ]
  },
  {
   "cell_type": "code",
   "execution_count": 94,
   "metadata": {},
   "outputs": [
    {
     "output_type": "execute_result",
     "data": {
      "text/plain": [
       "\"Polynomial([-1, 1.0, 1.5, 1.0, 0.5])\""
      ]
     },
     "metadata": {},
     "execution_count": 94
    }
   ],
   "source": [
    "x+z"
   ]
  },
  {
   "cell_type": "code",
   "execution_count": 7,
   "metadata": {},
   "outputs": [
    {
     "output_type": "execute_result",
     "data": {
      "text/plain": [
       "True"
      ]
     },
     "metadata": {},
     "execution_count": 7
    }
   ],
   "source": [
    "import numpy as np \n",
    "a = [0,0,1,2]\n",
    "a != 0\n"
   ]
  }
 ]
}